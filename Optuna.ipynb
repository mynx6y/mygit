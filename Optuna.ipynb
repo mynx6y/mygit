{
 "cells": [
  {
   "cell_type": "code",
   "execution_count": 0,
   "metadata": {
    "application/vnd.databricks.v1+cell": {
     "cellMetadata": {
      "byteLimit": 2048000,
      "rowLimit": 10000
     },
     "inputWidgets": {},
     "nuid": "a9058e1c-a6e6-466e-b2a6-30b8464bdb52",
     "showTitle": false,
     "tableResultSettingsMap": {},
     "title": ""
    }
   },
   "outputs": [
    {
     "output_type": "stream",
     "name": "stderr",
     "output_type": "stream",
     "text": [
      "--2025-05-21 07:10:34--  https://raw.githubusercontent.com/MicrosoftLearning/mslearn-databricks/main/data/penguins.csv\nResolving raw.githubusercontent.com (raw.githubusercontent.com)... 185.199.108.133, 185.199.111.133, 185.199.110.133, ...\nConnecting to raw.githubusercontent.com (raw.githubusercontent.com)|185.199.108.133|:443... connected.\nHTTP request sent, awaiting response... 200 OK\nLength: 9533 (9.3K) [text/plain]\nSaving to: ‘/dbfs/hyperparam_tune_lab/penguins.csv’\n\n     0K .........                                             100% 2.19M=0.004s\n\n2025-05-21 07:10:35 (2.19 MB/s) - ‘/dbfs/hyperparam_tune_lab/penguins.csv’ saved [9533/9533]\n\n"
     ]
    }
   ],
   "source": [
    "%sh\n",
    "rm -r /dbfs/hyperparam_tune_lab -f\n",
    "mkdir /dbfs/hyperparam_tune_lab\n",
    "wget -O /dbfs/hyperparam_tune_lab/penguins.csv https://raw.githubusercontent.com/MicrosoftLearning/mslearn-databricks/main/data/penguins.csv"
   ]
  },
  {
   "cell_type": "code",
   "execution_count": 0,
   "metadata": {
    "application/vnd.databricks.v1+cell": {
     "cellMetadata": {
      "byteLimit": 2048000,
      "rowLimit": 10000
     },
     "inputWidgets": {},
     "nuid": "2a1db041-b791-4777-a9a2-0548f573a71a",
     "showTitle": false,
     "tableResultSettingsMap": {},
     "title": ""
    }
   },
   "outputs": [
    {
     "output_type": "display_data",
     "data": {
      "text/html": [
       "<style scoped>\n",
       "  .table-result-container {\n",
       "    max-height: 300px;\n",
       "    overflow: auto;\n",
       "  }\n",
       "  table, th, td {\n",
       "    border: 1px solid black;\n",
       "    border-collapse: collapse;\n",
       "  }\n",
       "  th, td {\n",
       "    padding: 5px;\n",
       "  }\n",
       "  th {\n",
       "    text-align: left;\n",
       "  }\n",
       "</style><div class='table-result-container'><table class='table-result'><thead style='background-color: white'><tr><th>Island</th><th>CulmenLength</th><th>CulmenDepth</th><th>FlipperLength</th><th>BodyMass</th><th>Species</th></tr></thead><tbody><tr><td>Torgersen</td><td>39.3</td><td>20.6</td><td>190.0</td><td>3650.0</td><td>0</td></tr><tr><td>Torgersen</td><td>39.2</td><td>19.6</td><td>195.0</td><td>4675.0</td><td>0</td></tr><tr><td>Torgersen</td><td>38.6</td><td>21.2</td><td>191.0</td><td>3800.0</td><td>0</td></tr><tr><td>Torgersen</td><td>38.7</td><td>19.0</td><td>195.0</td><td>3450.0</td><td>0</td></tr><tr><td>Torgersen</td><td>34.4</td><td>18.4</td><td>184.0</td><td>3325.0</td><td>0</td></tr><tr><td>Biscoe</td><td>35.9</td><td>19.2</td><td>189.0</td><td>3800.0</td><td>0</td></tr><tr><td>Dream</td><td>36.4</td><td>17.0</td><td>195.0</td><td>3325.0</td><td>0</td></tr><tr><td>Dream</td><td>39.8</td><td>19.1</td><td>184.0</td><td>4650.0</td><td>0</td></tr><tr><td>Dream</td><td>36.5</td><td>18.0</td><td>182.0</td><td>3150.0</td><td>0</td></tr><tr><td>Dream</td><td>36.0</td><td>18.5</td><td>186.0</td><td>3100.0</td><td>0</td></tr><tr><td>Dream</td><td>44.1</td><td>19.7</td><td>196.0</td><td>4400.0</td><td>0</td></tr><tr><td>Dream</td><td>41.1</td><td>19.0</td><td>182.0</td><td>3425.0</td><td>0</td></tr><tr><td>Dream</td><td>37.5</td><td>18.9</td><td>179.0</td><td>2975.0</td><td>0</td></tr><tr><td>Biscoe</td><td>39.0</td><td>17.5</td><td>186.0</td><td>3550.0</td><td>0</td></tr><tr><td>Biscoe</td><td>37.6</td><td>19.1</td><td>194.0</td><td>3750.0</td><td>0</td></tr><tr><td>Biscoe</td><td>41.6</td><td>18.0</td><td>192.0</td><td>3950.0</td><td>0</td></tr><tr><td>Biscoe</td><td>35.5</td><td>16.2</td><td>195.0</td><td>3350.0</td><td>0</td></tr><tr><td>Torgersen</td><td>41.8</td><td>19.4</td><td>198.0</td><td>4450.0</td><td>0</td></tr><tr><td>Torgersen</td><td>39.7</td><td>18.4</td><td>190.0</td><td>3900.0</td><td>0</td></tr><tr><td>Torgersen</td><td>45.8</td><td>18.9</td><td>197.0</td><td>4150.0</td><td>0</td></tr><tr><td>Torgersen</td><td>42.8</td><td>18.5</td><td>195.0</td><td>4250.0</td><td>0</td></tr><tr><td>Torgersen</td><td>40.9</td><td>16.8</td><td>191.0</td><td>3700.0</td><td>0</td></tr><tr><td>Torgersen</td><td>36.2</td><td>16.1</td><td>187.0</td><td>3550.0</td><td>0</td></tr><tr><td>Torgersen</td><td>34.6</td><td>17.2</td><td>189.0</td><td>3200.0</td><td>0</td></tr><tr><td>Dream</td><td>37.3</td><td>17.8</td><td>191.0</td><td>3350.0</td><td>0</td></tr><tr><td>Dream</td><td>38.1</td><td>18.6</td><td>190.0</td><td>3700.0</td><td>0</td></tr><tr><td>Dream</td><td>40.3</td><td>18.5</td><td>196.0</td><td>4350.0</td><td>0</td></tr><tr><td>Dream</td><td>33.1</td><td>16.1</td><td>178.0</td><td>2900.0</td><td>0</td></tr><tr><td>Biscoe</td><td>39.7</td><td>18.9</td><td>184.0</td><td>3550.0</td><td>0</td></tr><tr><td>Biscoe</td><td>38.1</td><td>16.5</td><td>198.0</td><td>3825.0</td><td>0</td></tr><tr><td>Biscoe</td><td>39.7</td><td>17.7</td><td>193.0</td><td>3200.0</td><td>0</td></tr><tr><td>Torgersen</td><td>37.3</td><td>20.5</td><td>199.0</td><td>3775.0</td><td>0</td></tr><tr><td>Torgersen</td><td>36.2</td><td>17.2</td><td>187.0</td><td>3150.0</td><td>0</td></tr><tr><td>Torgersen</td><td>40.6</td><td>19.0</td><td>199.0</td><td>4000.0</td><td>0</td></tr><tr><td>Torgersen</td><td>41.5</td><td>18.3</td><td>195.0</td><td>4300.0</td><td>0</td></tr><tr><td>Dream</td><td>35.6</td><td>17.5</td><td>191.0</td><td>3175.0</td><td>0</td></tr><tr><td>Dream</td><td>39.0</td><td>18.7</td><td>185.0</td><td>3650.0</td><td>0</td></tr><tr><td>Dream</td><td>39.2</td><td>18.6</td><td>190.0</td><td>4250.0</td><td>0</td></tr><tr><td>Dream</td><td>36.6</td><td>18.4</td><td>184.0</td><td>3475.0</td><td>0</td></tr><tr><td>Biscoe</td><td>47.6</td><td>14.5</td><td>215.0</td><td>5400.0</td><td>1</td></tr><tr><td>Biscoe</td><td>48.4</td><td>14.6</td><td>213.0</td><td>5850.0</td><td>1</td></tr><tr><td>Biscoe</td><td>49.3</td><td>15.7</td><td>217.0</td><td>5850.0</td><td>1</td></tr><tr><td>Biscoe</td><td>46.3</td><td>15.8</td><td>215.0</td><td>5050.0</td><td>1</td></tr><tr><td>Biscoe</td><td>50.0</td><td>15.3</td><td>220.0</td><td>5550.0</td><td>1</td></tr><tr><td>Biscoe</td><td>49.6</td><td>16.0</td><td>225.0</td><td>5700.0</td><td>1</td></tr><tr><td>Biscoe</td><td>43.6</td><td>13.9</td><td>217.0</td><td>4900.0</td><td>1</td></tr><tr><td>Biscoe</td><td>44.9</td><td>13.3</td><td>213.0</td><td>5100.0</td><td>1</td></tr><tr><td>Biscoe</td><td>46.5</td><td>14.4</td><td>217.0</td><td>4900.0</td><td>1</td></tr><tr><td>Biscoe</td><td>43.8</td><td>13.9</td><td>208.0</td><td>4300.0</td><td>1</td></tr><tr><td>Biscoe</td><td>54.3</td><td>15.7</td><td>231.0</td><td>5650.0</td><td>1</td></tr><tr><td>Biscoe</td><td>49.8</td><td>16.8</td><td>230.0</td><td>5700.0</td><td>1</td></tr><tr><td>Biscoe</td><td>49.5</td><td>16.2</td><td>229.0</td><td>5800.0</td><td>1</td></tr><tr><td>Biscoe</td><td>50.7</td><td>15.0</td><td>223.0</td><td>5550.0</td><td>1</td></tr><tr><td>Biscoe</td><td>46.4</td><td>15.6</td><td>221.0</td><td>5000.0</td><td>1</td></tr><tr><td>Biscoe</td><td>48.6</td><td>16.0</td><td>230.0</td><td>5800.0</td><td>1</td></tr><tr><td>Biscoe</td><td>49.1</td><td>14.5</td><td>212.0</td><td>4625.0</td><td>1</td></tr><tr><td>Biscoe</td><td>47.4</td><td>14.6</td><td>212.0</td><td>4725.0</td><td>1</td></tr><tr><td>Biscoe</td><td>52.2</td><td>17.1</td><td>228.0</td><td>5400.0</td><td>1</td></tr><tr><td>Biscoe</td><td>49.5</td><td>16.1</td><td>224.0</td><td>5650.0</td><td>1</td></tr><tr><td>Biscoe</td><td>50.8</td><td>15.7</td><td>226.0</td><td>5200.0</td><td>1</td></tr><tr><td>Biscoe</td><td>49.4</td><td>15.8</td><td>216.0</td><td>4925.0</td><td>1</td></tr><tr><td>Biscoe</td><td>48.4</td><td>14.4</td><td>203.0</td><td>4625.0</td><td>1</td></tr><tr><td>Dream</td><td>50.0</td><td>19.5</td><td>196.0</td><td>3900.0</td><td>2</td></tr><tr><td>Dream</td><td>51.3</td><td>18.2</td><td>197.0</td><td>3750.0</td><td>2</td></tr><tr><td>Dream</td><td>50.6</td><td>19.4</td><td>193.0</td><td>3800.0</td><td>2</td></tr><tr><td>Dream</td><td>49.7</td><td>18.6</td><td>195.0</td><td>3600.0</td><td>2</td></tr><tr><td>Dream</td><td>49.0</td><td>19.5</td><td>210.0</td><td>3950.0</td><td>2</td></tr><tr><td>Dream</td><td>45.5</td><td>17.0</td><td>196.0</td><td>3500.0</td><td>2</td></tr><tr><td>Dream</td><td>50.9</td><td>17.9</td><td>196.0</td><td>3675.0</td><td>2</td></tr><tr><td>Dream</td><td>49.8</td><td>17.3</td><td>198.0</td><td>3675.0</td><td>2</td></tr><tr><td>Dream</td><td>48.1</td><td>16.4</td><td>199.0</td><td>3325.0</td><td>2</td></tr><tr><td>Dream</td><td>50.7</td><td>19.7</td><td>203.0</td><td>4050.0</td><td>2</td></tr><tr><td>Dream</td><td>52.2</td><td>18.8</td><td>197.0</td><td>3450.0</td><td>2</td></tr><tr><td>Dream</td><td>45.2</td><td>16.6</td><td>191.0</td><td>3250.0</td><td>2</td></tr><tr><td>Dream</td><td>45.6</td><td>19.4</td><td>194.0</td><td>3525.0</td><td>2</td></tr><tr><td>Dream</td><td>49.6</td><td>18.2</td><td>193.0</td><td>3775.0</td><td>2</td></tr><tr><td>Dream</td><td>50.8</td><td>19.0</td><td>210.0</td><td>4100.0</td><td>2</td></tr></tbody></table></div>"
      ]
     },
     "metadata": {
      "application/vnd.databricks.v1+output": {
       "addedWidgets": {},
       "aggData": [],
       "aggError": "",
       "aggOverflow": false,
       "aggSchema": [],
       "aggSeriesLimitReached": false,
       "aggType": "",
       "arguments": {},
       "columnCustomDisplayInfos": {},
       "data": [
        [
         "Torgersen",
         39.3,
         20.6,
         190.0,
         3650.0,
         0
        ],
        [
         "Torgersen",
         39.2,
         19.6,
         195.0,
         4675.0,
         0
        ],
        [
         "Torgersen",
         38.6,
         21.2,
         191.0,
         3800.0,
         0
        ],
        [
         "Torgersen",
         38.7,
         19.0,
         195.0,
         3450.0,
         0
        ],
        [
         "Torgersen",
         34.4,
         18.4,
         184.0,
         3325.0,
         0
        ],
        [
         "Biscoe",
         35.9,
         19.2,
         189.0,
         3800.0,
         0
        ],
        [
         "Dream",
         36.4,
         17.0,
         195.0,
         3325.0,
         0
        ],
        [
         "Dream",
         39.8,
         19.1,
         184.0,
         4650.0,
         0
        ],
        [
         "Dream",
         36.5,
         18.0,
         182.0,
         3150.0,
         0
        ],
        [
         "Dream",
         36.0,
         18.5,
         186.0,
         3100.0,
         0
        ],
        [
         "Dream",
         44.1,
         19.7,
         196.0,
         4400.0,
         0
        ],
        [
         "Dream",
         41.1,
         19.0,
         182.0,
         3425.0,
         0
        ],
        [
         "Dream",
         37.5,
         18.9,
         179.0,
         2975.0,
         0
        ],
        [
         "Biscoe",
         39.0,
         17.5,
         186.0,
         3550.0,
         0
        ],
        [
         "Biscoe",
         37.6,
         19.1,
         194.0,
         3750.0,
         0
        ],
        [
         "Biscoe",
         41.6,
         18.0,
         192.0,
         3950.0,
         0
        ],
        [
         "Biscoe",
         35.5,
         16.2,
         195.0,
         3350.0,
         0
        ],
        [
         "Torgersen",
         41.8,
         19.4,
         198.0,
         4450.0,
         0
        ],
        [
         "Torgersen",
         39.7,
         18.4,
         190.0,
         3900.0,
         0
        ],
        [
         "Torgersen",
         45.8,
         18.9,
         197.0,
         4150.0,
         0
        ],
        [
         "Torgersen",
         42.8,
         18.5,
         195.0,
         4250.0,
         0
        ],
        [
         "Torgersen",
         40.9,
         16.8,
         191.0,
         3700.0,
         0
        ],
        [
         "Torgersen",
         36.2,
         16.1,
         187.0,
         3550.0,
         0
        ],
        [
         "Torgersen",
         34.6,
         17.2,
         189.0,
         3200.0,
         0
        ],
        [
         "Dream",
         37.3,
         17.8,
         191.0,
         3350.0,
         0
        ],
        [
         "Dream",
         38.1,
         18.6,
         190.0,
         3700.0,
         0
        ],
        [
         "Dream",
         40.3,
         18.5,
         196.0,
         4350.0,
         0
        ],
        [
         "Dream",
         33.1,
         16.1,
         178.0,
         2900.0,
         0
        ],
        [
         "Biscoe",
         39.7,
         18.9,
         184.0,
         3550.0,
         0
        ],
        [
         "Biscoe",
         38.1,
         16.5,
         198.0,
         3825.0,
         0
        ],
        [
         "Biscoe",
         39.7,
         17.7,
         193.0,
         3200.0,
         0
        ],
        [
         "Torgersen",
         37.3,
         20.5,
         199.0,
         3775.0,
         0
        ],
        [
         "Torgersen",
         36.2,
         17.2,
         187.0,
         3150.0,
         0
        ],
        [
         "Torgersen",
         40.6,
         19.0,
         199.0,
         4000.0,
         0
        ],
        [
         "Torgersen",
         41.5,
         18.3,
         195.0,
         4300.0,
         0
        ],
        [
         "Dream",
         35.6,
         17.5,
         191.0,
         3175.0,
         0
        ],
        [
         "Dream",
         39.0,
         18.7,
         185.0,
         3650.0,
         0
        ],
        [
         "Dream",
         39.2,
         18.6,
         190.0,
         4250.0,
         0
        ],
        [
         "Dream",
         36.6,
         18.4,
         184.0,
         3475.0,
         0
        ],
        [
         "Biscoe",
         47.6,
         14.5,
         215.0,
         5400.0,
         1
        ],
        [
         "Biscoe",
         48.4,
         14.6,
         213.0,
         5850.0,
         1
        ],
        [
         "Biscoe",
         49.3,
         15.7,
         217.0,
         5850.0,
         1
        ],
        [
         "Biscoe",
         46.3,
         15.8,
         215.0,
         5050.0,
         1
        ],
        [
         "Biscoe",
         50.0,
         15.3,
         220.0,
         5550.0,
         1
        ],
        [
         "Biscoe",
         49.6,
         16.0,
         225.0,
         5700.0,
         1
        ],
        [
         "Biscoe",
         43.6,
         13.9,
         217.0,
         4900.0,
         1
        ],
        [
         "Biscoe",
         44.9,
         13.3,
         213.0,
         5100.0,
         1
        ],
        [
         "Biscoe",
         46.5,
         14.4,
         217.0,
         4900.0,
         1
        ],
        [
         "Biscoe",
         43.8,
         13.9,
         208.0,
         4300.0,
         1
        ],
        [
         "Biscoe",
         54.3,
         15.7,
         231.0,
         5650.0,
         1
        ],
        [
         "Biscoe",
         49.8,
         16.8,
         230.0,
         5700.0,
         1
        ],
        [
         "Biscoe",
         49.5,
         16.2,
         229.0,
         5800.0,
         1
        ],
        [
         "Biscoe",
         50.7,
         15.0,
         223.0,
         5550.0,
         1
        ],
        [
         "Biscoe",
         46.4,
         15.6,
         221.0,
         5000.0,
         1
        ],
        [
         "Biscoe",
         48.6,
         16.0,
         230.0,
         5800.0,
         1
        ],
        [
         "Biscoe",
         49.1,
         14.5,
         212.0,
         4625.0,
         1
        ],
        [
         "Biscoe",
         47.4,
         14.6,
         212.0,
         4725.0,
         1
        ],
        [
         "Biscoe",
         52.2,
         17.1,
         228.0,
         5400.0,
         1
        ],
        [
         "Biscoe",
         49.5,
         16.1,
         224.0,
         5650.0,
         1
        ],
        [
         "Biscoe",
         50.8,
         15.7,
         226.0,
         5200.0,
         1
        ],
        [
         "Biscoe",
         49.4,
         15.8,
         216.0,
         4925.0,
         1
        ],
        [
         "Biscoe",
         48.4,
         14.4,
         203.0,
         4625.0,
         1
        ],
        [
         "Dream",
         50.0,
         19.5,
         196.0,
         3900.0,
         2
        ],
        [
         "Dream",
         51.3,
         18.2,
         197.0,
         3750.0,
         2
        ],
        [
         "Dream",
         50.6,
         19.4,
         193.0,
         3800.0,
         2
        ],
        [
         "Dream",
         49.7,
         18.6,
         195.0,
         3600.0,
         2
        ],
        [
         "Dream",
         49.0,
         19.5,
         210.0,
         3950.0,
         2
        ],
        [
         "Dream",
         45.5,
         17.0,
         196.0,
         3500.0,
         2
        ],
        [
         "Dream",
         50.9,
         17.9,
         196.0,
         3675.0,
         2
        ],
        [
         "Dream",
         49.8,
         17.3,
         198.0,
         3675.0,
         2
        ],
        [
         "Dream",
         48.1,
         16.4,
         199.0,
         3325.0,
         2
        ],
        [
         "Dream",
         50.7,
         19.7,
         203.0,
         4050.0,
         2
        ],
        [
         "Dream",
         52.2,
         18.8,
         197.0,
         3450.0,
         2
        ],
        [
         "Dream",
         45.2,
         16.6,
         191.0,
         3250.0,
         2
        ],
        [
         "Dream",
         45.6,
         19.4,
         194.0,
         3525.0,
         2
        ],
        [
         "Dream",
         49.6,
         18.2,
         193.0,
         3775.0,
         2
        ],
        [
         "Dream",
         50.8,
         19.0,
         210.0,
         4100.0,
         2
        ]
       ],
       "datasetInfos": [],
       "dbfsResultPath": null,
       "isJsonSchema": true,
       "metadata": {},
       "overflow": false,
       "plotOptions": {
        "customPlotOptions": {},
        "displayType": "table",
        "pivotAggregation": null,
        "pivotColumns": null,
        "xColumns": null,
        "yColumns": null
       },
       "removedWidgets": [],
       "schema": [
        {
         "metadata": "{}",
         "name": "Island",
         "type": "\"string\""
        },
        {
         "metadata": "{}",
         "name": "CulmenLength",
         "type": "\"float\""
        },
        {
         "metadata": "{}",
         "name": "CulmenDepth",
         "type": "\"float\""
        },
        {
         "metadata": "{}",
         "name": "FlipperLength",
         "type": "\"float\""
        },
        {
         "metadata": "{}",
         "name": "BodyMass",
         "type": "\"float\""
        },
        {
         "metadata": "{}",
         "name": "Species",
         "type": "\"integer\""
        }
       ],
       "type": "table"
      }
     },
     "output_type": "display_data"
    },
    {
     "output_type": "stream",
     "name": "stdout",
     "output_type": "stream",
     "text": [
      "Training Rows: 243  Testing Rows: 99\n"
     ]
    }
   ],
   "source": [
    "from pyspark.sql.types import *\n",
    "from pyspark.sql.functions import *\n",
    "   \n",
    "# CSV 파일을 Spark DataFrame으로 읽어옵니다. header 옵션은 CSV 파일의 첫 줄을 컬럼 이름으로 사용하도록 합니다.\n",
    "data = spark.read.format(\"csv\").option(\"header\", \"true\").load(\"/hyperparam_tune_lab/penguins.csv\")\n",
    "\n",
    "# 결측값이 있는 행을 제거하고(dropna), 각 컬럼을 적절한 데이터 타입으로 변환합니다.\n",
    "data = data.dropna().select(col(\"Island\").astype(\"string\"),\n",
    "                          col(\"CulmenLength\").astype(\"float\"), # 부리 길이\n",
    "                          col(\"CulmenDepth\").astype(\"float\"),  # 부리 깊이\n",
    "                          col(\"FlipperLength\").astype(\"float\"),# 지느러미 길이\n",
    "                          col(\"BodyMass\").astype(\"float\"),   # 몸무게\n",
    "                          col(\"Species\").astype(\"int\")       # 펭귄 종 (레이블)\n",
    "                          )\n",
    "# 데이터의 20%를 무작위로 샘플링하여 Databricks notebook에 시각적으로 표시합니다.\n",
    "display(data.sample(0.2))\n",
    "   \n",
    "# 데이터를 training set (70%)과 test set (30%)으로 무작위로 분할합니다.\n",
    "splits = data.randomSplit([0.7, 0.3])\n",
    "train = splits[0]\n",
    "test = splits[1]\n",
    "print (\"Training Rows:\", train.count(), \" Testing Rows:\", test.count())"
   ]
  },
  {
   "cell_type": "code",
   "execution_count": 0,
   "metadata": {
    "application/vnd.databricks.v1+cell": {
     "cellMetadata": {
      "byteLimit": 2048000,
      "rowLimit": 10000
     },
     "inputWidgets": {},
     "nuid": "337e3eab-d437-49b4-93bd-c7d40b4926d0",
     "showTitle": false,
     "tableResultSettingsMap": {},
     "title": ""
    }
   },
   "outputs": [],
   "source": [
    "import optuna\n",
    "import mlflow # 실험을 로깅하고 싶다면 사용합니다.\n",
    "from pyspark.ml import Pipeline\n",
    "from pyspark.ml.feature import StringIndexer, VectorAssembler, MinMaxScaler\n",
    "from pyspark.ml.classification import DecisionTreeClassifier\n",
    "from pyspark.ml.evaluation import MulticlassClassificationEvaluator\n",
    "   \n",
    "def objective(trial):\n",
    "    # Hyperparameter 값 제안 (maxDepth 및 maxBins):\n",
    "    # \"MaxDepth\"라는 이름의 hyperparameter에 대해 0에서 9 사이의 정수 값을 제안합니다.\n",
    "    max_depth = trial.suggest_int(\"MaxDepth\", 0, 9) \n",
    "    # \"MaxBins\"라는 이름의 hyperparameter에 대해 [10, 20, 30] 리스트 중 하나의 범주형 값을 제안합니다.\n",
    "    max_bins = trial.suggest_categorical(\"MaxBins\", [10, 20, 30])\n",
    "\n",
    "    # Pipeline 구성 요소 정의\n",
    "    cat_feature = \"Island\" # 범주형 feature 컬럼 이름\n",
    "    num_features = [\"CulmenLength\", \"CulmenDepth\", \"FlipperLength\", \"BodyMass\"] # 수치형 feature 컬럼 이름 리스트\n",
    "    \n",
    "    # StringIndexer: 범주형 문자열 컬럼(\"Island\")을 숫자 인덱스 컬럼(\"IslandIdx\")으로 변환합니다.\n",
    "    catIndexer = StringIndexer(inputCol=cat_feature, outputCol=cat_feature + \"Idx\")\n",
    "    # VectorAssembler: 여러 수치형 feature 컬럼들을 단일 벡터 컬럼(\"numericFeatures\")으로 결합합니다.\n",
    "    numVector = VectorAssembler(inputCols=num_features, outputCol=\"numericFeatures\")\n",
    "    # MinMaxScaler: \"numericFeatures\" 벡터의 값들을 0과 1 사이로 정규화하여 \"normalizedFeatures\" 컬럼을 만듭니다.\n",
    "    numScaler = MinMaxScaler(inputCol=numVector.getOutputCol(), outputCol=\"normalizedFeatures\")\n",
    "    # VectorAssembler: 인덱싱된 범주형 feature와 정규화된 수치형 feature들을 최종 \"Features\" 벡터 컬럼으로 결합합니다.\n",
    "    featureVector = VectorAssembler(inputCols=[cat_feature + \"Idx\", \"normalizedFeatures\"], outputCol=\"Features\")\n",
    "\n",
    "    # DecisionTreeClassifier: 의사결정 트리 분류기를 설정합니다.\n",
    "    # labelCol: 예측 대상 컬럼 (펭귄 종)\n",
    "    # featuresCol: 학습에 사용될 feature 컬럼\n",
    "    # maxDepth, maxBins: Optuna가 제안한 hyperparameter 값 사용\n",
    "    dt = DecisionTreeClassifier(\n",
    "        labelCol=\"Species\",\n",
    "        featuresCol=\"Features\",\n",
    "        maxDepth=max_depth,\n",
    "        maxBins=max_bins\n",
    "    )\n",
    "\n",
    "    # Pipeline: 정의된 모든 변환 단계(Indexer, Assembler, Scaler)와 분류기(dt)를 순서대로 실행하는 파이프라인을 만듭니다.\n",
    "    pipeline = Pipeline(stages=[catIndexer, numVector, numScaler, featureVector, dt])\n",
    "    # 모델 학습: training data(train)를 사용하여 파이프라인을 학습시킵니다.\n",
    "    model = pipeline.fit(train)\n",
    "\n",
    "    # 정확도를 사용하여 모델 평가\n",
    "    # 학습된 모델을 사용하여 test data에 대한 예측을 생성합니다.\n",
    "    predictions = model.transform(test)\n",
    "    # MulticlassClassificationEvaluator: 다중 클래스 분류 모델의 성능을 평가합니다.\n",
    "    # metricName=\"accuracy\": 평가 지표로 정확도를 사용합니다.\n",
    "    evaluator = MulticlassClassificationEvaluator(\n",
    "        labelCol=\"Species\",\n",
    "        predictionCol=\"prediction\", # 모델이 생성한 예측값 컬럼\n",
    "        metricName=\"accuracy\"\n",
    "    )\n",
    "    # 예측 결과에 대한 정확도를 계산합니다.\n",
    "    accuracy = evaluator.evaluate(predictions)\n",
    "\n",
    "    # Optuna는 목적 함수를 최소화하므로, 정확도의 음수 값을 반환합니다.\n",
    "    # 이렇게 하면 Optuna가 정확도를 최대화하는 방향으로 최적화를 수행하게 됩니다.\n",
    "    return -accuracy"
   ]
  },
  {
   "cell_type": "code",
   "execution_count": 0,
   "metadata": {
    "application/vnd.databricks.v1+cell": {
     "cellMetadata": {
      "byteLimit": 2048000,
      "rowLimit": 10000
     },
     "inputWidgets": {},
     "nuid": "3f8efe0a-dbdf-437f-bc7b-7317af508871",
     "showTitle": false,
     "tableResultSettingsMap": {},
     "title": ""
    }
   },
   "outputs": [
    {
     "output_type": "stream",
     "name": "stderr",
     "output_type": "stream",
     "text": [
      "[I 2025-05-21 07:27:16,851] A new study created in memory with name: no-name-c88ccd51-8eea-45ba-aba8-261fee8148b3\n"
     ]
    },
    {
     "output_type": "display_data",
     "data": {
      "application/vnd.jupyter.widget-view+json": {
       "model_id": "06d71acc0fe74f1c91342f6bf1a1b476",
       "version_major": 2,
       "version_minor": 0
      },
      "text/plain": [
       "Downloading artifacts:   0%|          | 0/45 [00:00<?, ?it/s]"
      ]
     },
     "metadata": {},
     "output_type": "display_data"
    },
    {
     "output_type": "display_data",
     "data": {
      "application/vnd.jupyter.widget-view+json": {
       "model_id": "92f221878de341cf8f6e0d479129d5f3",
       "version_major": 2,
       "version_minor": 0
      },
      "text/plain": [
       "Uploading artifacts:   0%|          | 0/4 [00:00<?, ?it/s]"
      ]
     },
     "metadata": {},
     "output_type": "display_data"
    },
    {
     "output_type": "stream",
     "name": "stderr",
     "output_type": "stream",
     "text": [
      "[I 2025-05-21 07:28:06,243] Trial 0 finished with value: -0.7575757575757576 and parameters: {'MaxDepth': 1, 'MaxBins': 10}. Best is trial 0 with value: -0.7575757575757576.\n"
     ]
    },
    {
     "output_type": "display_data",
     "data": {
      "application/vnd.jupyter.widget-view+json": {
       "model_id": "935bd9be3333476abd56aca948cb1688",
       "version_major": 2,
       "version_minor": 0
      },
      "text/plain": [
       "Downloading artifacts:   0%|          | 0/45 [00:00<?, ?it/s]"
      ]
     },
     "metadata": {},
     "output_type": "display_data"
    },
    {
     "output_type": "display_data",
     "data": {
      "application/vnd.jupyter.widget-view+json": {
       "model_id": "4fe27d6cff8b45e6895021eb6e760d9f",
       "version_major": 2,
       "version_minor": 0
      },
      "text/plain": [
       "Uploading artifacts:   0%|          | 0/4 [00:00<?, ?it/s]"
      ]
     },
     "metadata": {},
     "output_type": "display_data"
    },
    {
     "output_type": "stream",
     "name": "stderr",
     "output_type": "stream",
     "text": [
      "[I 2025-05-21 07:28:48,781] Trial 1 finished with value: -0.9393939393939394 and parameters: {'MaxDepth': 3, 'MaxBins': 10}. Best is trial 1 with value: -0.9393939393939394.\n"
     ]
    },
    {
     "output_type": "display_data",
     "data": {
      "application/vnd.jupyter.widget-view+json": {
       "model_id": "79a180819b474f0a8160bee2274bc137",
       "version_major": 2,
       "version_minor": 0
      },
      "text/plain": [
       "Downloading artifacts:   0%|          | 0/45 [00:00<?, ?it/s]"
      ]
     },
     "metadata": {},
     "output_type": "display_data"
    },
    {
     "output_type": "display_data",
     "data": {
      "application/vnd.jupyter.widget-view+json": {
       "model_id": "ebc6457ee3434d1f99a08fcf52df3b7e",
       "version_major": 2,
       "version_minor": 0
      },
      "text/plain": [
       "Uploading artifacts:   0%|          | 0/4 [00:00<?, ?it/s]"
      ]
     },
     "metadata": {},
     "output_type": "display_data"
    },
    {
     "output_type": "stream",
     "name": "stderr",
     "output_type": "stream",
     "text": [
      "[I 2025-05-21 07:29:32,974] Trial 2 finished with value: -0.9696969696969697 and parameters: {'MaxDepth': 6, 'MaxBins': 20}. Best is trial 2 with value: -0.9696969696969697.\n"
     ]
    },
    {
     "output_type": "display_data",
     "data": {
      "application/vnd.jupyter.widget-view+json": {
       "model_id": "524a725bc4e34f6f829adcaeb9c45aec",
       "version_major": 2,
       "version_minor": 0
      },
      "text/plain": [
       "Downloading artifacts:   0%|          | 0/45 [00:00<?, ?it/s]"
      ]
     },
     "metadata": {},
     "output_type": "display_data"
    },
    {
     "output_type": "display_data",
     "data": {
      "application/vnd.jupyter.widget-view+json": {
       "model_id": "9bf8296a14f14a50ba3fbe08737755f7",
       "version_major": 2,
       "version_minor": 0
      },
      "text/plain": [
       "Uploading artifacts:   0%|          | 0/4 [00:00<?, ?it/s]"
      ]
     },
     "metadata": {},
     "output_type": "display_data"
    },
    {
     "output_type": "stream",
     "name": "stderr",
     "output_type": "stream",
     "text": [
      "[I 2025-05-21 07:30:15,865] Trial 3 finished with value: -0.9595959595959596 and parameters: {'MaxDepth': 9, 'MaxBins': 30}. Best is trial 2 with value: -0.9696969696969697.\n"
     ]
    },
    {
     "output_type": "display_data",
     "data": {
      "application/vnd.jupyter.widget-view+json": {
       "model_id": "a0c1be2a1494404bb72b072215e25dc8",
       "version_major": 2,
       "version_minor": 0
      },
      "text/plain": [
       "Downloading artifacts:   0%|          | 0/45 [00:00<?, ?it/s]"
      ]
     },
     "metadata": {},
     "output_type": "display_data"
    },
    {
     "output_type": "display_data",
     "data": {
      "application/vnd.jupyter.widget-view+json": {
       "model_id": "83a9166b825347a4a0b4c625d977b8fb",
       "version_major": 2,
       "version_minor": 0
      },
      "text/plain": [
       "Uploading artifacts:   0%|          | 0/4 [00:00<?, ?it/s]"
      ]
     },
     "metadata": {},
     "output_type": "display_data"
    },
    {
     "output_type": "stream",
     "name": "stderr",
     "output_type": "stream",
     "text": [
      "[I 2025-05-21 07:30:58,011] Trial 4 finished with value: -0.7777777777777778 and parameters: {'MaxDepth': 1, 'MaxBins': 30}. Best is trial 2 with value: -0.9696969696969697.\n"
     ]
    },
    {
     "output_type": "stream",
     "name": "stdout",
     "output_type": "stream",
     "text": [
      "최적화 실행에서 찾은 최상의 매개변수 값:\n{'MaxDepth': 6, 'MaxBins': 20}\n"
     ]
    }
   ],
   "source": [
    "# 5번의 trial로 최적화 실행:\n",
    "# Optuna study 객체를 생성합니다. study는 최적화 과정을 관리합니다.\n",
    "study = optuna.create_study() \n",
    "# objective 함수를 사용하여 최적화를 시작합니다. n_trials=5는 5번의 다른 hyperparameter 조합을 시도하라는 의미입니다.\n",
    "study.optimize(objective, n_trials=5)\n",
    "\n",
    "print(\"최적화 실행에서 찾은 최상의 매개변수 값:\")\n",
    "# study.best_params는 최적화 과정에서 가장 좋은 성능(가장 낮은 손실 값, 즉 가장 높은 정확도)을 보인 hyperparameter 조합을 반환합니다.\n",
    "print(study.best_params)"
   ]
  }
 ],
 "metadata": {
  "application/vnd.databricks.v1+notebook": {
   "computePreferences": null,
   "dashboards": [],
   "environmentMetadata": {
    "base_environment": "",
    "environment_version": "2"
   },
   "inputWidgetPreferences": null,
   "language": "python",
   "notebookMetadata": {
    "mostRecentlyExecutedCommandWithImplicitDF": {
     "commandId": 634901749660283,
     "dataframes": [
      "_sqldf"
     ]
    },
    "pythonIndentUnit": 4
   },
   "notebookName": "5-3. Optuna",
   "widgets": {}
  },
  "language_info": {
   "name": "python"
  }
 },
 "nbformat": 4,
 "nbformat_minor": 0
}